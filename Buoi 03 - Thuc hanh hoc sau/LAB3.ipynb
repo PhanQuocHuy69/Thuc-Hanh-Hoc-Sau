{
 "cells": [
  {
   "cell_type": "markdown",
   "metadata": {},
   "source": [
    "## Lam sach du lieu co ban"
   ]
  },
  {
   "cell_type": "markdown",
   "metadata": {},
   "source": [
    "## 1. Tao du lieu "
   ]
  },
  {
   "cell_type": "code",
   "execution_count": 2,
   "metadata": {},
   "outputs": [
    {
     "name": "stdout",
     "output_type": "stream",
     "text": [
      "   id    Ten  Tuoi                              Email     salary\n",
      "0   1    Anh  15.0  khang.2274802010384@vanlanguni.vn        NaN\n",
      "1   2  Phong  14.0              khang682004@gmail.com  7000000.0\n",
      "2   3     Em  16.0                   phu@yahoo.com.vn    10000.0\n",
      "3   4    Phu  28.0                       em@gmail.com   800000.0\n",
      "4   5   None   NaN                               None   150000.0\n",
      "5   6   None   NaN                               None        NaN\n"
     ]
    }
   ],
   "source": [
    "import pandas as pd\n",
    "\n",
    "data = {\n",
    "    \"id\": [1, 2, 3, 4, 5, 6],\n",
    "    \"Ten\": [\"Anh\", \"Phong\", \"Em\", \"Phu\", None, None],  \n",
    "    \"Tuoi\": [15, 14, 16, 28, None, None],  \n",
    "    \"Email\": [\"khang.2274802010384@vanlanguni.vn\", \"khang682004@gmail.com\", \"phu@yahoo.com.vn\", \"em@gmail.com\", None, None],\n",
    "    \"salary\": [None, 7000000, 10000, 800000, 150000, None]  \n",
    "}\n",
    "\n",
    "df = pd.DataFrame(data)\n",
    "print(df)\n",
    "\n"
   ]
  },
  {
   "cell_type": "code",
   "execution_count": 3,
   "metadata": {},
   "outputs": [
    {
     "data": {
      "text/html": [
       "<div>\n",
       "<style scoped>\n",
       "    .dataframe tbody tr th:only-of-type {\n",
       "        vertical-align: middle;\n",
       "    }\n",
       "\n",
       "    .dataframe tbody tr th {\n",
       "        vertical-align: top;\n",
       "    }\n",
       "\n",
       "    .dataframe thead th {\n",
       "        text-align: right;\n",
       "    }\n",
       "</style>\n",
       "<table border=\"1\" class=\"dataframe\">\n",
       "  <thead>\n",
       "    <tr style=\"text-align: right;\">\n",
       "      <th></th>\n",
       "      <th>id</th>\n",
       "      <th>Ten</th>\n",
       "      <th>Tuoi</th>\n",
       "      <th>Email</th>\n",
       "      <th>salary</th>\n",
       "    </tr>\n",
       "  </thead>\n",
       "  <tbody>\n",
       "    <tr>\n",
       "      <th>0</th>\n",
       "      <td>1</td>\n",
       "      <td>Anh</td>\n",
       "      <td>15.0</td>\n",
       "      <td>khang.2274802010384@vanlanguni.vn</td>\n",
       "      <td>NaN</td>\n",
       "    </tr>\n",
       "    <tr>\n",
       "      <th>1</th>\n",
       "      <td>2</td>\n",
       "      <td>Phong</td>\n",
       "      <td>14.0</td>\n",
       "      <td>khang682004@gmail.com</td>\n",
       "      <td>7000000.0</td>\n",
       "    </tr>\n",
       "    <tr>\n",
       "      <th>2</th>\n",
       "      <td>3</td>\n",
       "      <td>Em</td>\n",
       "      <td>16.0</td>\n",
       "      <td>phu@yahoo.com.vn</td>\n",
       "      <td>10000.0</td>\n",
       "    </tr>\n",
       "    <tr>\n",
       "      <th>3</th>\n",
       "      <td>4</td>\n",
       "      <td>Phu</td>\n",
       "      <td>28.0</td>\n",
       "      <td>em@gmail.com</td>\n",
       "      <td>800000.0</td>\n",
       "    </tr>\n",
       "    <tr>\n",
       "      <th>4</th>\n",
       "      <td>5</td>\n",
       "      <td>None</td>\n",
       "      <td>NaN</td>\n",
       "      <td>None</td>\n",
       "      <td>150000.0</td>\n",
       "    </tr>\n",
       "  </tbody>\n",
       "</table>\n",
       "</div>"
      ],
      "text/plain": [
       "   id    Ten  Tuoi                              Email     salary\n",
       "0   1    Anh  15.0  khang.2274802010384@vanlanguni.vn        NaN\n",
       "1   2  Phong  14.0              khang682004@gmail.com  7000000.0\n",
       "2   3     Em  16.0                   phu@yahoo.com.vn    10000.0\n",
       "3   4    Phu  28.0                       em@gmail.com   800000.0\n",
       "4   5   None   NaN                               None   150000.0"
      ]
     },
     "execution_count": 3,
     "metadata": {},
     "output_type": "execute_result"
    }
   ],
   "source": [
    "# Lay ten dang nhap\n",
    "df.head()"
   ]
  },
  {
   "cell_type": "code",
   "execution_count": 4,
   "metadata": {},
   "outputs": [
    {
     "data": {
      "text/plain": [
       "id        0\n",
       "Ten       2\n",
       "Tuoi      2\n",
       "Email     2\n",
       "salary    2\n",
       "dtype: int64"
      ]
     },
     "execution_count": 4,
     "metadata": {},
     "output_type": "execute_result"
    }
   ],
   "source": [
    "# Kiem tra du lieu bi thieu\n",
    "df.isnull().sum()"
   ]
  },
  {
   "cell_type": "code",
   "execution_count": 8,
   "metadata": {},
   "outputs": [
    {
     "name": "stderr",
     "output_type": "stream",
     "text": [
      "C:\\Users\\Admin\\AppData\\Local\\Temp\\ipykernel_9608\\4089966279.py:2: FutureWarning: A value is trying to be set on a copy of a DataFrame or Series through chained assignment using an inplace method.\n",
      "The behavior will change in pandas 3.0. This inplace method will never work because the intermediate object on which we are setting values always behaves as a copy.\n",
      "\n",
      "For example, when doing 'df[col].method(value, inplace=True)', try using 'df.method({col: value}, inplace=True)' or df[col] = df[col].method(value) instead, to perform the operation inplace on the original object.\n",
      "\n",
      "\n",
      "  df[\"salary\"].fillna(df[\"salary\"].mean(), inplace=True)\n"
     ]
    }
   ],
   "source": [
    "# Dien gia tri thieu bang gia tri trung binh cho cot salary\n",
    "df[\"salary\"].fillna(df[\"salary\"].mean(), inplace=True)\n"
   ]
  },
  {
   "cell_type": "code",
   "execution_count": 10,
   "metadata": {},
   "outputs": [
    {
     "name": "stderr",
     "output_type": "stream",
     "text": [
      "C:\\Users\\Admin\\AppData\\Local\\Temp\\ipykernel_9608\\3646958442.py:2: FutureWarning: A value is trying to be set on a copy of a DataFrame or Series through chained assignment using an inplace method.\n",
      "The behavior will change in pandas 3.0. This inplace method will never work because the intermediate object on which we are setting values always behaves as a copy.\n",
      "\n",
      "For example, when doing 'df[col].method(value, inplace=True)', try using 'df.method({col: value}, inplace=True)' or df[col] = df[col].method(value) instead, to perform the operation inplace on the original object.\n",
      "\n",
      "\n",
      "  df[\"Ten\"].fillna(\"unknow\", inplace=True)\n",
      "C:\\Users\\Admin\\AppData\\Local\\Temp\\ipykernel_9608\\3646958442.py:3: FutureWarning: A value is trying to be set on a copy of a DataFrame or Series through chained assignment using an inplace method.\n",
      "The behavior will change in pandas 3.0. This inplace method will never work because the intermediate object on which we are setting values always behaves as a copy.\n",
      "\n",
      "For example, when doing 'df[col].method(value, inplace=True)', try using 'df.method({col: value}, inplace=True)' or df[col] = df[col].method(value) instead, to perform the operation inplace on the original object.\n",
      "\n",
      "\n",
      "  df[\"Email\"].fillna(\"unknow\", inplace=True)\n"
     ]
    }
   ],
   "source": [
    "# Gia tri thieu bang unknow cho cot \"name\" va cot \"email\"\n",
    "df[\"Ten\"].fillna(\"unknow\", inplace=True)\n",
    "df[\"Email\"].fillna(\"unknow\", inplace=True)"
   ]
  },
  {
   "cell_type": "code",
   "execution_count": 11,
   "metadata": {},
   "outputs": [
    {
     "data": {
      "text/plain": [
       "id        0\n",
       "Ten       0\n",
       "Tuoi      2\n",
       "Email     0\n",
       "salary    0\n",
       "dtype: int64"
      ]
     },
     "execution_count": 11,
     "metadata": {},
     "output_type": "execute_result"
    }
   ],
   "source": [
    "# Kiem tra du lieu bi thieu\n",
    "df.isnull().sum()"
   ]
  },
  {
   "cell_type": "code",
   "execution_count": 12,
   "metadata": {},
   "outputs": [
    {
     "data": {
      "text/html": [
       "<div>\n",
       "<style scoped>\n",
       "    .dataframe tbody tr th:only-of-type {\n",
       "        vertical-align: middle;\n",
       "    }\n",
       "\n",
       "    .dataframe tbody tr th {\n",
       "        vertical-align: top;\n",
       "    }\n",
       "\n",
       "    .dataframe thead th {\n",
       "        text-align: right;\n",
       "    }\n",
       "</style>\n",
       "<table border=\"1\" class=\"dataframe\">\n",
       "  <thead>\n",
       "    <tr style=\"text-align: right;\">\n",
       "      <th></th>\n",
       "      <th>id</th>\n",
       "      <th>Ten</th>\n",
       "      <th>Tuoi</th>\n",
       "      <th>Email</th>\n",
       "      <th>salary</th>\n",
       "    </tr>\n",
       "  </thead>\n",
       "  <tbody>\n",
       "    <tr>\n",
       "      <th>0</th>\n",
       "      <td>1</td>\n",
       "      <td>Anh</td>\n",
       "      <td>15.0</td>\n",
       "      <td>khang.2274802010384@vanlanguni.vn</td>\n",
       "      <td>1990000.0</td>\n",
       "    </tr>\n",
       "    <tr>\n",
       "      <th>1</th>\n",
       "      <td>2</td>\n",
       "      <td>Phong</td>\n",
       "      <td>14.0</td>\n",
       "      <td>khang682004@gmail.com</td>\n",
       "      <td>7000000.0</td>\n",
       "    </tr>\n",
       "    <tr>\n",
       "      <th>2</th>\n",
       "      <td>3</td>\n",
       "      <td>Em</td>\n",
       "      <td>16.0</td>\n",
       "      <td>phu@yahoo.com.vn</td>\n",
       "      <td>10000.0</td>\n",
       "    </tr>\n",
       "    <tr>\n",
       "      <th>3</th>\n",
       "      <td>4</td>\n",
       "      <td>Phu</td>\n",
       "      <td>28.0</td>\n",
       "      <td>em@gmail.com</td>\n",
       "      <td>800000.0</td>\n",
       "    </tr>\n",
       "    <tr>\n",
       "      <th>4</th>\n",
       "      <td>5</td>\n",
       "      <td>unknow</td>\n",
       "      <td>NaN</td>\n",
       "      <td>unknow</td>\n",
       "      <td>150000.0</td>\n",
       "    </tr>\n",
       "  </tbody>\n",
       "</table>\n",
       "</div>"
      ],
      "text/plain": [
       "   id     Ten  Tuoi                              Email     salary\n",
       "0   1     Anh  15.0  khang.2274802010384@vanlanguni.vn  1990000.0\n",
       "1   2   Phong  14.0              khang682004@gmail.com  7000000.0\n",
       "2   3      Em  16.0                   phu@yahoo.com.vn    10000.0\n",
       "3   4     Phu  28.0                       em@gmail.com   800000.0\n",
       "4   5  unknow   NaN                             unknow   150000.0"
      ]
     },
     "execution_count": 12,
     "metadata": {},
     "output_type": "execute_result"
    }
   ],
   "source": [
    "df.head()"
   ]
  },
  {
   "cell_type": "code",
   "execution_count": 13,
   "metadata": {},
   "outputs": [],
   "source": [
    "# Chuan hoa cot Ten bang cach viet hoa chu cai dau\n",
    "df[\"Ten\"] = df[\"Ten\"].str.title()"
   ]
  },
  {
   "cell_type": "code",
   "execution_count": 14,
   "metadata": {},
   "outputs": [
    {
     "data": {
      "text/html": [
       "<div>\n",
       "<style scoped>\n",
       "    .dataframe tbody tr th:only-of-type {\n",
       "        vertical-align: middle;\n",
       "    }\n",
       "\n",
       "    .dataframe tbody tr th {\n",
       "        vertical-align: top;\n",
       "    }\n",
       "\n",
       "    .dataframe thead th {\n",
       "        text-align: right;\n",
       "    }\n",
       "</style>\n",
       "<table border=\"1\" class=\"dataframe\">\n",
       "  <thead>\n",
       "    <tr style=\"text-align: right;\">\n",
       "      <th></th>\n",
       "      <th>id</th>\n",
       "      <th>Ten</th>\n",
       "      <th>Tuoi</th>\n",
       "      <th>Email</th>\n",
       "      <th>salary</th>\n",
       "    </tr>\n",
       "  </thead>\n",
       "  <tbody>\n",
       "    <tr>\n",
       "      <th>0</th>\n",
       "      <td>1</td>\n",
       "      <td>Anh</td>\n",
       "      <td>15.0</td>\n",
       "      <td>khang.2274802010384@vanlanguni.vn</td>\n",
       "      <td>1990000.0</td>\n",
       "    </tr>\n",
       "    <tr>\n",
       "      <th>1</th>\n",
       "      <td>2</td>\n",
       "      <td>Phong</td>\n",
       "      <td>14.0</td>\n",
       "      <td>khang682004@gmail.com</td>\n",
       "      <td>7000000.0</td>\n",
       "    </tr>\n",
       "    <tr>\n",
       "      <th>2</th>\n",
       "      <td>3</td>\n",
       "      <td>Em</td>\n",
       "      <td>16.0</td>\n",
       "      <td>phu@yahoo.com.vn</td>\n",
       "      <td>10000.0</td>\n",
       "    </tr>\n",
       "    <tr>\n",
       "      <th>3</th>\n",
       "      <td>4</td>\n",
       "      <td>Phu</td>\n",
       "      <td>28.0</td>\n",
       "      <td>em@gmail.com</td>\n",
       "      <td>800000.0</td>\n",
       "    </tr>\n",
       "    <tr>\n",
       "      <th>4</th>\n",
       "      <td>5</td>\n",
       "      <td>Unknow</td>\n",
       "      <td>NaN</td>\n",
       "      <td>unknow</td>\n",
       "      <td>150000.0</td>\n",
       "    </tr>\n",
       "    <tr>\n",
       "      <th>5</th>\n",
       "      <td>6</td>\n",
       "      <td>Unknow</td>\n",
       "      <td>NaN</td>\n",
       "      <td>unknow</td>\n",
       "      <td>1990000.0</td>\n",
       "    </tr>\n",
       "  </tbody>\n",
       "</table>\n",
       "</div>"
      ],
      "text/plain": [
       "   id     Ten  Tuoi                              Email     salary\n",
       "0   1     Anh  15.0  khang.2274802010384@vanlanguni.vn  1990000.0\n",
       "1   2   Phong  14.0              khang682004@gmail.com  7000000.0\n",
       "2   3      Em  16.0                   phu@yahoo.com.vn    10000.0\n",
       "3   4     Phu  28.0                       em@gmail.com   800000.0\n",
       "4   5  Unknow   NaN                             unknow   150000.0\n",
       "5   6  Unknow   NaN                             unknow  1990000.0"
      ]
     },
     "execution_count": 14,
     "metadata": {},
     "output_type": "execute_result"
    }
   ],
   "source": [
    "# Chuyen hoa cot email bang cach chuyen ve chu thuong\n",
    "df[\"Email\"] = df[\"Email\"].str.lower()\n",
    "\n",
    "df"
   ]
  },
  {
   "cell_type": "code",
   "execution_count": 15,
   "metadata": {},
   "outputs": [],
   "source": [
    "#Luu du lieu da lam sach\n",
    "df.to_csv(\"Dulieulamsach.csv\", index=False)"
   ]
  },
  {
   "cell_type": "markdown",
   "metadata": {},
   "source": [
    "# Bai tap ve nha"
   ]
  },
  {
   "cell_type": "markdown",
   "metadata": {},
   "source": [
    "### Cho du lieu dirty_data.csv\n",
    "1. Kiem tra du lieu thieu\n",
    "    -Kiem tra cac cot co du lieu thieu\n",
    "    -Dien gia tri phu hop hoac loai bo cac hang co qua nhieu du lieu thieu\n",
    "2. Phat hien va sua loi du lieu bat thuong \n",
    "    -Tim cac gia tri bat thuong trong cot tuoi(age) cos the la am hoac la qua lon\n",
    "    -Kiem tra cot thu nhap (income) de phat hien du lieu bi sai\n",
    "3. Chuyen hoa dang du lieu \n",
    "    -Chuyen doi cot sang ngay sinh va dang chuan yyyy/mm/dd\n",
    "    -Chuyen hoa du lieu trong cot gioi tinh(gender) de chi co 2 gioi tinh hop le la \"Male\" va \"Female\"\n",
    "4. Xác định và xóa các bản ghi trùng lặp dựa trên thông tin khách hàng\n",
    "    -Xuất dữ liệu sạch\n",
    "5. Lưu tập dữ liệu đã làm sạch thành tệp mới clean_data.csv"
   ]
  },
  {
   "cell_type": "code",
   "execution_count": null,
   "metadata": {},
   "outputs": [],
   "source": []
  }
 ],
 "metadata": {
  "kernelspec": {
   "display_name": "Python 3",
   "language": "python",
   "name": "python3"
  },
  "language_info": {
   "codemirror_mode": {
    "name": "ipython",
    "version": 3
   },
   "file_extension": ".py",
   "mimetype": "text/x-python",
   "name": "python",
   "nbconvert_exporter": "python",
   "pygments_lexer": "ipython3",
   "version": "3.11.0"
  }
 },
 "nbformat": 4,
 "nbformat_minor": 2
}
