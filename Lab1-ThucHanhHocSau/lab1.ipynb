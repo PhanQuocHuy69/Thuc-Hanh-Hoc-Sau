{
 "cells": [
  {
   "cell_type": "markdown",
   "metadata": {},
   "source": [
    "# 1.Import thư viện và đọc dữ liệu"
   ]
  },
  {
   "cell_type": "code",
   "execution_count": 4,
   "metadata": {},
   "outputs": [
    {
     "name": "stdout",
     "output_type": "stream",
     "text": [
      "<class 'pandas.core.frame.DataFrame'>\n",
      "RangeIndex: 100 entries, 0 to 99\n",
      "Data columns (total 56 columns):\n",
      " #   Column  Non-Null Count  Dtype  \n",
      "---  ------  --------------  -----  \n",
      " 0   STT     100 non-null    int64  \n",
      " 1   T1      100 non-null    float64\n",
      " 2   L1      100 non-null    float64\n",
      " 3   H1      100 non-null    float64\n",
      " 4   S1      100 non-null    float64\n",
      " 5   V1      100 non-null    float64\n",
      " 6   X1      100 non-null    float64\n",
      " 7   D1      100 non-null    float64\n",
      " 8   N1      100 non-null    float64\n",
      " 9   T2      100 non-null    float64\n",
      " 10  L2      100 non-null    float64\n",
      " 11  H2      100 non-null    float64\n",
      " 12  S2      100 non-null    float64\n",
      " 13  V2      100 non-null    float64\n",
      " 14  X2      100 non-null    float64\n",
      " 15  D2      100 non-null    float64\n",
      " 16  N2      100 non-null    float64\n",
      " 17  T3      100 non-null    float64\n",
      " 18  L3      100 non-null    float64\n",
      " 19  H3      100 non-null    float64\n",
      " 20  S3      100 non-null    float64\n",
      " 21  V3      100 non-null    float64\n",
      " 22  X3      100 non-null    float64\n",
      " 23  D3      100 non-null    float64\n",
      " 24  N3      100 non-null    float64\n",
      " 25  T4      100 non-null    float64\n",
      " 26  L4      100 non-null    float64\n",
      " 27  H4      100 non-null    float64\n",
      " 28  S4      100 non-null    float64\n",
      " 29  V4      100 non-null    float64\n",
      " 30  X4      100 non-null    float64\n",
      " 31  D4      100 non-null    float64\n",
      " 32  N4      100 non-null    float64\n",
      " 33  T5      100 non-null    float64\n",
      " 34  L5      100 non-null    float64\n",
      " 35  H5      100 non-null    float64\n",
      " 36  S5      100 non-null    float64\n",
      " 37  V5      100 non-null    float64\n",
      " 38  X5      100 non-null    float64\n",
      " 39  D5      100 non-null    float64\n",
      " 40  N5      100 non-null    float64\n",
      " 41  T6      100 non-null    float64\n",
      " 42  L6      100 non-null    float64\n",
      " 43  H6      100 non-null    float64\n",
      " 44  S6      100 non-null    float64\n",
      " 45  V6      100 non-null    float64\n",
      " 46  X6      100 non-null    float64\n",
      " 47  D6      100 non-null    float64\n",
      " 48  N6      100 non-null    float64\n",
      " 49  GT      100 non-null    object \n",
      " 50  DT      3 non-null      float64\n",
      " 51  KV      100 non-null    object \n",
      " 52  DH1     100 non-null    float64\n",
      " 53  DH2     100 non-null    float64\n",
      " 54  DH3     100 non-null    float64\n",
      " 55  KT      100 non-null    object \n",
      "dtypes: float64(52), int64(1), object(3)\n",
      "memory usage: 43.9+ KB\n",
      "   STT   T1   L1   H1   S1   V1   X1   D1   N1   T2  ...   X6   D6   N6  GT  \\\n",
      "0    1  7.2  7.3  6.3  7.3  7.0  7.9  7.3  5.5  8.4  ...  6.6  7.6  5.9   F   \n",
      "1    2  5.4  3.9  3.9  4.0  5.4  5.4  5.3  2.8  6.3  ...  6.6  6.1  4.4   M   \n",
      "2    3  5.6  6.8  7.2  7.5  4.3  7.4  5.8  3.2  5.0  ...  7.9  8.1  4.6   M   \n",
      "3    4  6.6  6.4  5.3  6.9  5.4  7.3  6.4  5.8  5.1  ...  7.1  7.3  7.4   M   \n",
      "4    5  6.0  5.0  6.0  7.3  6.5  7.7  7.9  6.1  5.4  ...  6.1  7.5  7.2   M   \n",
      "5    6  9.3  7.6  7.9  8.6  7.0  7.3  7.7  7.9  9.6  ...  5.7  8.0  7.8   M   \n",
      "6    7  2.8  3.9  5.5  6.9  5.0  7.3  4.6  5.2  4.4  ...  6.6  6.0  6.0   F   \n",
      "7    8  8.3  6.0  7.6  5.1  7.5  4.7  5.8  7.2  6.7  ...  7.1  6.8  7.0   F   \n",
      "8    9  6.5  6.3  7.6  6.0  5.5  7.1  6.3  5.0  7.3  ...  9.1  7.9  6.1   F   \n",
      "9   10  7.3  5.9  4.7  7.1  6.7  7.9  6.7  7.7  8.0  ...  6.4  6.1  7.8   F   \n",
      "\n",
      "   DT   KV   DH1   DH2   DH3  KT  \n",
      "0 NaN  2NT  3.25  3.25  4.50  A1  \n",
      "1 NaN    1  6.00  4.00  3.50   C  \n",
      "2 NaN    1  5.00  6.75  4.00   C  \n",
      "3 NaN    1  4.25  4.25  5.25  D1  \n",
      "4 NaN  2NT  4.25  4.50  5.00   A  \n",
      "5 NaN    1  1.50  4.00  6.00  D1  \n",
      "6 NaN    2  6.50  6.75  5.25   C  \n",
      "7 NaN    2  3.75  4.50  4.25  D1  \n",
      "8 NaN    1  3.50  3.50  6.75  D1  \n",
      "9 NaN    1  4.00  4.75  5.50  D1  \n",
      "\n",
      "[10 rows x 56 columns]\n",
      "    STT   T1   L1   H1   S1   V1   X1   D1   N1   T2  ...   X6   D6   N6  GT  \\\n",
      "90   91  8.1  7.7  9.1  8.5  6.1  8.6  8.8  7.3  8.8  ...  8.3  8.7  7.8   M   \n",
      "91   92  7.8  6.5  6.7  5.4  6.2  4.8  5.9  4.4  8.9  ...  7.2  7.4  7.0   M   \n",
      "92   93  5.0  6.6  6.5  7.2  5.8  6.7  6.4  6.0  6.8  ...  5.9  6.7  5.8   M   \n",
      "93   94  5.2  5.2  6.8  7.9  6.6  8.9  7.6  5.3  6.8  ...  8.7  7.8  5.0   M   \n",
      "94   95  5.8  5.9  7.6  6.1  5.3  8.1  6.1  5.0  6.4  ...  7.3  6.8  5.3   M   \n",
      "95   96  8.6  6.9  7.4  8.8  7.6  5.8  7.3  5.7  8.9  ...  6.3  6.1  6.2   F   \n",
      "96   97  3.7  5.4  6.0  5.1  5.5  3.9  6.1  4.4  4.1  ...  7.9  7.5  4.4   F   \n",
      "97   98  8.8  5.5  7.4  7.7  6.2  7.3  8.1  4.5  9.5  ...  9.6  8.4  5.8   M   \n",
      "98   99  2.7  1.8  3.4  5.3  4.5  7.9  4.9  3.8  2.8  ...  6.6  5.2  5.9   M   \n",
      "99  100  4.1  5.2  4.9  5.3  5.5  5.4  7.2  5.4  4.4  ...  5.6  6.6  5.8   M   \n",
      "\n",
      "    DT   KV   DH1   DH2   DH3  KT  \n",
      "90 NaN    2  6.25  4.00  6.50   A  \n",
      "91 NaN  2NT  4.75  4.75  4.50   A  \n",
      "92 NaN    1  3.25  5.25  4.25   A  \n",
      "93 NaN    1  3.50  4.25  5.00   A  \n",
      "94 NaN    1  4.25  2.50  4.75   A  \n",
      "95 NaN    1  5.25  1.50  6.25   C  \n",
      "96 NaN    1  5.25  3.75  4.75   C  \n",
      "97 NaN  2NT  7.00  8.00  4.00   C  \n",
      "98 NaN    1  5.00  3.50  5.50   C  \n",
      "99 NaN  2NT  5.25  2.50  4.25   C  \n",
      "\n",
      "[10 rows x 56 columns]\n"
     ]
    }
   ],
   "source": [
    "import pandas as pd\n",
    "\n",
    "# Đọc dữ liệu từ file CSV\n",
    "file_path = \"C:/Users/Admin/Documents/Downloads/dulieuxettuyendaihoc.csv\"  # Cập nhật đường dẫn nếu cần\n",
    "df = pd.read_csv(file_path)\n",
    "\n",
    "# Hiển thị thông tin chung về dữ liệu\n",
    "df.info()\n",
    "\n",
    "# Hiển thị 10 dòng đầu và 10 dòng cuối\n",
    "print(df.head(10))\n",
    "print(df.tail(10))\n"
   ]
  },
  {
   "cell_type": "markdown",
   "metadata": {},
   "source": [
    "# 2. Xác định loại dữ liệu (định tính & định lượng)"
   ]
  },
  {
   "cell_type": "code",
   "execution_count": 5,
   "metadata": {},
   "outputs": [
    {
     "name": "stdout",
     "output_type": "stream",
     "text": [
      "Biến định tính: ['GT', 'DT', 'KV', 'KT']\n",
      "Biến định lượng: ['X5', 'D6', 'X4', 'N6', 'T5', 'L6', 'L2', 'T6', 'S2', 'T2', 'V6', 'T4', 'X6', 'DH2', 'V4', 'H5', 'S5', 'H1', 'X2', 'L4', 'STT', 'D4', 'H6', 'DH1', 'N1', 'S6', 'S1', 'X3', 'H2', 'D3', 'H3', 'S4', 'T3', 'D5', 'V1', 'X1', 'D2', 'N4', 'N3', 'DH3', 'V2', 'L5', 'D1', 'V5', 'H4', 'N5', 'T1', 'N2', 'S3', 'L1', 'L3', 'V3']\n"
     ]
    }
   ],
   "source": [
    "# Phân loại biến định tính và định lượng\n",
    "dinh_tinh = [\"GT\", \"DT\", \"KV\", \"KT\"]  # Giới tính, Dân tộc, Khu vực, Khối thi\n",
    "dinh_luong = list(set(df.columns) - set(dinh_tinh))  # Các cột còn lại là định lượng\n",
    "\n",
    "print(\"Biến định tính:\", dinh_tinh)\n",
    "print(\"Biến định lượng:\", dinh_luong)\n"
   ]
  },
  {
   "cell_type": "markdown",
   "metadata": {},
   "source": [
    "# 3.Khảo sát dữ liệu thiếu"
   ]
  },
  {
   "cell_type": "code",
   "execution_count": 6,
   "metadata": {},
   "outputs": [
    {
     "name": "stdout",
     "output_type": "stream",
     "text": [
      "DT    97\n",
      "dtype: int64\n"
     ]
    }
   ],
   "source": [
    "# Kiểm tra số lượng dữ liệu thiếu\n",
    "missing_values = df.isnull().sum()\n",
    "\n",
    "# Hiển thị các cột có dữ liệu thiếu\n",
    "print(missing_values[missing_values > 0])\n"
   ]
  },
  {
   "cell_type": "markdown",
   "metadata": {},
   "source": [
    "# 4. Xử lý dữ liệu thiếu"
   ]
  },
  {
   "cell_type": "code",
   "execution_count": 7,
   "metadata": {},
   "outputs": [
    {
     "name": "stderr",
     "output_type": "stream",
     "text": [
      "C:\\Users\\Admin\\AppData\\Local\\Temp\\ipykernel_516\\1765403246.py:1: FutureWarning: A value is trying to be set on a copy of a DataFrame or Series through chained assignment using an inplace method.\n",
      "The behavior will change in pandas 3.0. This inplace method will never work because the intermediate object on which we are setting values always behaves as a copy.\n",
      "\n",
      "For example, when doing 'df[col].method(value, inplace=True)', try using 'df.method({col: value}, inplace=True)' or df[col] = df[col].method(value) instead, to perform the operation inplace on the original object.\n",
      "\n",
      "\n",
      "  df[\"DT\"].fillna(0, inplace=True)\n"
     ]
    }
   ],
   "source": [
    "df[\"DT\"].fillna(0, inplace=True)\n"
   ]
  },
  {
   "cell_type": "code",
   "execution_count": 11,
   "metadata": {},
   "outputs": [
    {
     "name": "stdout",
     "output_type": "stream",
     "text": [
      "STT       int64\n",
      "T1      float64\n",
      "L1      float64\n",
      "H1      float64\n",
      "S1      float64\n",
      "V1      float64\n",
      "X1      float64\n",
      "D1      float64\n",
      "N1      float64\n",
      "T2      float64\n",
      "L2      float64\n",
      "H2      float64\n",
      "S2      float64\n",
      "V2      float64\n",
      "X2      float64\n",
      "D2      float64\n",
      "N2      float64\n",
      "T3      float64\n",
      "L3      float64\n",
      "H3      float64\n",
      "S3      float64\n",
      "V3      float64\n",
      "X3      float64\n",
      "D3      float64\n",
      "N3      float64\n",
      "T4      float64\n",
      "L4      float64\n",
      "H4      float64\n",
      "S4      float64\n",
      "V4      float64\n",
      "X4      float64\n",
      "D4      float64\n",
      "N4      float64\n",
      "T5      float64\n",
      "L5      float64\n",
      "H5      float64\n",
      "S5      float64\n",
      "V5      float64\n",
      "X5      float64\n",
      "D5      float64\n",
      "N5      float64\n",
      "T6      float64\n",
      "L6      float64\n",
      "H6      float64\n",
      "S6      float64\n",
      "V6      float64\n",
      "X6      float64\n",
      "D6      float64\n",
      "N6      float64\n",
      "GT       object\n",
      "DT      float64\n",
      "KV       object\n",
      "DH1     float64\n",
      "DH2     float64\n",
      "DH3     float64\n",
      "KT       object\n",
      "TBM1    float64\n",
      "TBM2    float64\n",
      "TBM3    float64\n",
      "dtype: object\n",
      "STT     0\n",
      "T1      0\n",
      "L1      0\n",
      "H1      0\n",
      "S1      0\n",
      "V1      0\n",
      "X1      0\n",
      "D1      0\n",
      "N1      0\n",
      "T2      0\n",
      "L2      0\n",
      "H2      0\n",
      "S2      0\n",
      "V2      0\n",
      "X2      0\n",
      "D2      0\n",
      "N2      0\n",
      "T3      0\n",
      "L3      0\n",
      "H3      0\n",
      "S3      0\n",
      "V3      0\n",
      "X3      0\n",
      "D3      0\n",
      "N3      0\n",
      "T4      0\n",
      "L4      0\n",
      "H4      0\n",
      "S4      0\n",
      "V4      0\n",
      "X4      0\n",
      "D4      0\n",
      "N4      0\n",
      "T5      0\n",
      "L5      0\n",
      "H5      0\n",
      "S5      0\n",
      "V5      0\n",
      "X5      0\n",
      "D5      0\n",
      "N5      0\n",
      "T6      0\n",
      "L6      0\n",
      "H6      0\n",
      "S6      0\n",
      "V6      0\n",
      "X6      0\n",
      "D6      0\n",
      "N6      0\n",
      "GT      0\n",
      "DT      0\n",
      "KV      0\n",
      "DH1     0\n",
      "DH2     0\n",
      "DH3     0\n",
      "KT      0\n",
      "TBM1    0\n",
      "TBM2    0\n",
      "TBM3    0\n",
      "dtype: int64\n"
     ]
    }
   ],
   "source": [
    "print(df.dtypes)\n",
    "# Xác định các cột số\n",
    "numeric_cols = df.select_dtypes(include=[\"number\"]).columns\n",
    "\n",
    "# Điền giá trị thiếu chỉ trong các cột số\n",
    "df[numeric_cols] = df[numeric_cols].fillna(df[numeric_cols].mean())\n",
    "\n",
    "print(df.isnull().sum())\n",
    "\n"
   ]
  },
  {
   "cell_type": "markdown",
   "metadata": {},
   "source": [
    "# 5.Tạo điểm trung bình các năm lớp 10, 11, 12 "
   ]
  },
  {
   "cell_type": "code",
   "execution_count": 13,
   "metadata": {},
   "outputs": [],
   "source": [
    "df[\"TBM1\"] = (df[\"T1\"]*2 + df[\"L1\"] + df[\"H1\"] + df[\"S1\"] + df[\"V1\"]*2 + df[\"X1\"] + df[\"D1\"] + df[\"N1\"]) / 10\n",
    "df[\"TBM2\"] = (df[\"T2\"]*2 + df[\"L2\"] + df[\"H2\"] + df[\"S2\"] + df[\"V2\"]*2 + df[\"X2\"] + df[\"D2\"] + df[\"N2\"]) / 10\n",
    "df[\"TBM3\"] = (df[\"T6\"]*2 + df[\"L6\"] + df[\"H6\"] + df[\"S6\"] + df[\"V6\"]*2 + df[\"X6\"] + df[\"D6\"] + df[\"N6\"]) / 10\n"
   ]
  },
  {
   "cell_type": "markdown",
   "metadata": {},
   "source": [
    "# 6. Phân loại học lực (XL1, XL2, XL3)"
   ]
  },
  {
   "cell_type": "code",
   "execution_count": 14,
   "metadata": {},
   "outputs": [],
   "source": [
    "def classify_score(score):\n",
    "    if score < 5.0:\n",
    "        return \"Y\"\n",
    "    elif 5.0 <= score < 6.5:\n",
    "        return \"TB\"\n",
    "    elif 6.5 <= score < 8.0:\n",
    "        return \"K\"\n",
    "    elif 8.0 <= score < 9.0:\n",
    "        return \"G\"\n",
    "    else:\n",
    "        return \"XS\"\n",
    "\n",
    "df[\"XL1\"] = df[\"TBM1\"].apply(classify_score)\n",
    "df[\"XL2\"] = df[\"TBM2\"].apply(classify_score)\n",
    "df[\"XL3\"] = df[\"TBM3\"].apply(classify_score)\n"
   ]
  },
  {
   "cell_type": "markdown",
   "metadata": {},
   "source": [
    "# 7. Chuyển đổi điểm sang thang điểm 4"
   ]
  },
  {
   "cell_type": "code",
   "execution_count": 15,
   "metadata": {},
   "outputs": [],
   "source": [
    "def min_max_scaling(series):\n",
    "    return (series - series.min()) / (series.max() - series.min()) * 4\n",
    "\n",
    "df[\"US_TBM1\"] = min_max_scaling(df[\"TBM1\"])\n",
    "df[\"US_TBM2\"] = min_max_scaling(df[\"TBM2\"])\n",
    "df[\"US_TBM3\"] = min_max_scaling(df[\"TBM3\"])\n"
   ]
  },
  {
   "cell_type": "markdown",
   "metadata": {},
   "source": [
    "# 8. Xác định kết quả xét tuyển (KQXT)"
   ]
  },
  {
   "cell_type": "code",
   "execution_count": 16,
   "metadata": {},
   "outputs": [],
   "source": [
    "def determine_admission(row):\n",
    "    if row[\"KT\"] == \"A\":\n",
    "        return 1 if ((row[\"DH1\"]*2 + row[\"DH2\"] + row[\"DH3\"]) / 4) >= 5.0 else 0\n",
    "    elif row[\"KT\"] == \"B\":\n",
    "        return 1 if ((row[\"DH1\"] + row[\"DH2\"]*2 + row[\"DH3\"]) / 4) >= 5.0 else 0\n",
    "    else:\n",
    "        return 1 if ((row[\"DH1\"] + row[\"DH2\"] + row[\"DH3\"]) / 3) >= 5.0 else 0\n",
    "\n",
    "df[\"KQXT\"] = df.apply(determine_admission, axis=1)\n"
   ]
  },
  {
   "cell_type": "markdown",
   "metadata": {},
   "source": [
    "# 9. Lưu dữ liệu đã xử lý vào file mới"
   ]
  },
  {
   "cell_type": "code",
   "execution_count": 17,
   "metadata": {},
   "outputs": [
    {
     "name": "stdout",
     "output_type": "stream",
     "text": [
      "Dữ liệu đã được lưu vào: processed_dulieuxettuyendaihoc.csv\n"
     ]
    }
   ],
   "source": [
    "output_file = \"processed_dulieuxettuyendaihoc.csv\"\n",
    "df.to_csv(output_file, index=False)\n",
    "print(f\"Dữ liệu đã được lưu vào: {output_file}\")\n"
   ]
  }
 ],
 "metadata": {
  "kernelspec": {
   "display_name": "Python 3",
   "language": "python",
   "name": "python3"
  },
  "language_info": {
   "codemirror_mode": {
    "name": "ipython",
    "version": 3
   },
   "file_extension": ".py",
   "mimetype": "text/x-python",
   "name": "python",
   "nbconvert_exporter": "python",
   "pygments_lexer": "ipython3",
   "version": "3.11.0"
  }
 },
 "nbformat": 4,
 "nbformat_minor": 2
}
